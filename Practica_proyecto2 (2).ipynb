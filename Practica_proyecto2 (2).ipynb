{
 "cells": [
  {
   "cell_type": "code",
   "execution_count": null,
   "metadata": {},
   "outputs": [],
   "source": [
    "import pandas as pd\n",
    "import numpy as np\n",
    "import matplotlib.pyplot as plt\n",
    "import seaborn as sns"
   ]
  },
  {
   "cell_type": "code",
   "execution_count": null,
   "metadata": {},
   "outputs": [],
   "source": [
    "# Cargar los datos desde archivos CSV\n",
    "df1 = pd.read_csv('life_expectancy.csv')"
   ]
  },
  {
   "cell_type": "code",
   "execution_count": null,
   "metadata": {},
   "outputs": [],
   "source": [
    "df1"
   ]
  },
  {
   "cell_type": "code",
   "execution_count": null,
   "metadata": {},
   "outputs": [],
   "source": [
    "df1.describe()"
   ]
  },
  {
   "cell_type": "code",
   "execution_count": null,
   "metadata": {},
   "outputs": [],
   "source": [
    "df1.dropna()"
   ]
  },
  {
   "cell_type": "code",
   "execution_count": null,
   "metadata": {},
   "outputs": [],
   "source": [
    "#Funcion para identificar duplicados \n",
    "df1.duplicated().sum()"
   ]
  },
  {
   "cell_type": "code",
   "execution_count": null,
   "metadata": {},
   "outputs": [],
   "source": [
    "# Verificar si hay algún valor nulo en todo el DataFrame\n",
    "any_null = df1.isnull().sum().any()\n",
    "# Imprimir el resultado\n",
    "print(any_null)\n"
   ]
  },
  {
   "cell_type": "code",
   "execution_count": null,
   "metadata": {},
   "outputs": [],
   "source": [
    "#Nuevo DataFrame\n",
    "df_2014 = df1[df1['Year'] == 2014].head(15)\n",
    "\n",
    "print(df_2014)"
   ]
  },
  {
   "cell_type": "code",
   "execution_count": null,
   "metadata": {},
   "outputs": [],
   "source": [
    "Muestra_definida = df_2014.dropna(subset = ['Population'])\n",
    "#datos obtenidos\n",
    "Muestra_definida"
   ]
  },
  {
   "cell_type": "code",
   "execution_count": null,
   "metadata": {},
   "outputs": [],
   "source": [
    "# analisis de la relacion entre la densidad poblacional y la esperanza de vida de los paises\n",
    "# grafico de dispersion\n",
    "\n",
    "plt.figure(figsize=(15, 8)) # Crear una figura de tamaño 15x8 pulgadas\n",
    "\n",
    "# Crear un gráfico de dispersión con la cantidad de personas en el eje x y la esperanza de vida en el eje y\n",
    "plt.scatter(Muestra_definida['Population'], Muestra_definida['Life expectancy'], color='skyblue', s=100, alpha=0.7)\n",
    "# Etiquetas de los ejes y título del gráfico\n",
    "plt.xlabel('Cantidad de personas')\n",
    "plt.ylabel('Esperanza de Vida')\n",
    "plt.title('Comparación de Esperanza de Vida en funcion de la cantidad de personas')\n",
    "plt.grid() # Mostrar una cuadrícula en el gráfico\n",
    "\n",
    "for i, pais in enumerate(Muestra_definida['Country']):\n",
    "    plt.annotate(pais, (Muestra_definida['Population'].iloc[i], Muestra_definida['Life expectancy'].iloc[i]), textcoords=\"offset points\", xytext=(0,5), ha='center')\n",
    "    \n",
    "plt.show()\n",
    "\n",
    "\n",
    "#La poblacion total de un pais no es un factor a tomar en cuenta en la longevidad de las personas\n",
    "'''Este código genera un gráfico de dispersión que compara la esperanza de vida con la cantidad de personas (población) para diferentes países. \n",
    "Se crea una figura de tamaño 15x8 pulgadas. \n",
    "Los puntos en el gráfico representan cada país, donde el eje x muestra la población y el eje y muestra la esperanza de vida. \n",
    "Además, se agregan etiquetas a los ejes y un título al gráfico. \n",
    "Se muestra una cuadrícula para una mejor visualización de los datos. \n",
    "Finalmente, se añaden anotaciones con los nombres de los países en el gráfico y se muestra el gráfico completo.'''\n",
    "\n"
   ]
  },
  {
   "cell_type": "code",
   "execution_count": null,
   "metadata": {},
   "outputs": [],
   "source": [
    "# analisiser de la relacion entre la educacion(años de estudio) y la esperanza de vida de los paises\n",
    "# grafico de dispsion\n",
    "\n",
    "plt.figure(figsize=(15, 8))\n",
    "plt.scatter(Muestra_definida['Schooling'], Muestra_definida['Life expectancy'], color='skyblue', s=100, alpha=0.7)\n",
    "plt.xlabel('Años de estudio')\n",
    "plt.ylabel('Esperanza de Vida')\n",
    "plt.title('Comparación de Esperanza de Vida en funcion de la cantidad de personas')\n",
    "plt.grid()\n",
    "\n",
    "for i, pais in enumerate(Muestra_definida['Country']):\n",
    "    plt.annotate(pais, (Muestra_definida['Schooling'].iloc[i], Muestra_definida['Life expectancy'].iloc[i]), textcoords=\"offset points\", xytext=(0,5), ha='center')\n",
    "    \n",
    "plt.show()\n",
    "\n",
    "\n",
    "#La eduacion es un factor que influye en la esperanza de vida, los paises con mas años de ciclo formativo tienden a tener\n",
    "#una esperanza de vida mas alta\n",
    "'''Gráfico de dispersión que compara la esperanza de vida con la cantidad de años de estudio (educación) para diferentes países.\n",
    " Cada punto en el gráfico representa un país, y las anotaciones muestran el nombre de cada país en su respectiva posición en el gráfico. '''"
   ]
  },
  {
   "cell_type": "code",
   "execution_count": null,
   "metadata": {},
   "outputs": [],
   "source": [
    "# analisis de la relacion entre el PIB y la esperanza de vida de los paises\n",
    "# grafico de dispersion\n",
    "\n",
    "plt.figure(figsize=(15, 10))\n",
    "plt.scatter(Muestra_definida['GDP'], Muestra_definida['Life expectancy'], color='skyblue', s=100, alpha=0.7)\n",
    "plt.xlabel('PIB')\n",
    "plt.ylabel('Esperanza de Vida')\n",
    "plt.title('Comparación de Esperanza de Vida en funcion del PIB')\n",
    "plt.grid()\n",
    "\n",
    "for i, pais in enumerate(Muestra_definida['Country']):\n",
    "    plt.annotate(pais, (Muestra_definida['GDP'].iloc[i], Muestra_definida['Life expectancy'].iloc[i]), textcoords=\"offset points\", xytext=(0,5), ha='center')\n",
    "    \n",
    "plt.show()\n",
    "\n",
    "\n",
    "#A medida que el producto interno bruto de un pais aumenta, por lo regular tambien aumenta su esperanza de vida, por lo que\n",
    "#puede ser un factor a considerar para la longevidad\n",
    "'''Este código genera un gráfico de dispersión que compara la esperanza de vida con el Producto Interno Bruto (PIB) para diferentes países. \n",
    "Cada punto en el gráfico representa un país, y las anotaciones muestran el nombre de cada país en su respectiva posición en el gráfico. '''"
   ]
  },
  {
   "cell_type": "code",
   "execution_count": null,
   "metadata": {},
   "outputs": [],
   "source": [
    "# analisis de la relacion entre BMI y la esperanza de vida de los paises\n",
    "\n",
    "# grafico de dispersion\n",
    "\n",
    "plt.figure(figsize=(15, 8))\n",
    "plt.scatter(Muestra_definida['BMI'], Muestra_definida['Life expectancy'], color='skyblue', s=100, alpha=0.7)\n",
    "plt.xlabel('índice de masa corporal promedio de toda la población del país')\n",
    "plt.ylabel('Esperanza de Vida')\n",
    "plt.title('Comparación de Esperanza de Vida en funcion del índice de masa corporal promedio de toda la población del país')\n",
    "plt.grid()\n",
    "\n",
    "for i, pais in enumerate(Muestra_definida['Country']):\n",
    "    plt.annotate(pais, (Muestra_definida['BMI'].iloc[i], Muestra_definida['Life expectancy'].iloc[i]), textcoords=\"offset points\", xytext=(0,5), ha='center')\n",
    "    \n",
    "plt.show()\n",
    "\n",
    "#El BMI es un factor"
   ]
  },
  {
   "cell_type": "code",
   "execution_count": null,
   "metadata": {},
   "outputs": [],
   "source": [
    "# analisis de la relación entre los gastos médicos y de salud del gobierno y los gastos totales del gobierno en porcentaje\n",
    "# con la esperanza de vida\n",
    "# grafico de dispersion\n",
    "\n",
    "plt.figure(figsize=(15, 10))\n",
    "plt.scatter(Muestra_definida['Total expenditure'], Muestra_definida['Life expectancy'], color='skyblue', s=100, alpha=0.7)\n",
    "plt.xlabel('Gasto(Medicina y gubernamentales)')\n",
    "plt.ylabel('Esperanza de Vida')\n",
    "plt.title('Comparación de Esperanza de Vida en funcion de los gastos del pais en medicina')\n",
    "plt.grid()\n",
    "\n",
    "for i, pais in enumerate(Muestra_definida['Country']):\n",
    "    plt.annotate(pais, (Muestra_definida['Total expenditure'].iloc[i], Muestra_definida['Life expectancy'].iloc[i]), textcoords=\"offset points\", xytext=(0,5), ha='center')\n",
    "    \n",
    "plt.show()\n",
    "\n",
    "\n",
    "#Los resultados son dispersos, no debe ser considerado un factor para la longevidad"
   ]
  },
  {
   "cell_type": "code",
   "execution_count": null,
   "metadata": {},
   "outputs": [],
   "source": [
    "# Analisis de la relación entre el Polio y la esperanza de vida\n",
    "# grafico de dispersion\n",
    "\n",
    "plt.figure(figsize=(15, 10))\n",
    "plt.scatter(Muestra_definida['Polio'], Muestra_definida['Life expectancy'], color='Green', s=100, alpha=0.7)\n",
    "plt.title('Porcentaje de niños de 1 año vacunados contra la polio vs. Esperanza de vida por país')\n",
    "plt.xlabel('Porcentaje de niños de 1 año vacunados contra la polio (%)')\n",
    "plt.ylabel('Esperanza de vida')\n",
    "plt.grid()\n",
    "\n",
    "for i, pais in enumerate(Muestra_definida['Country']):\n",
    "    plt.annotate(pais, (Muestra_definida['Polio'].iloc[i], Muestra_definida['Life expectancy'].iloc[i]), textcoords=\"offset points\", xytext=(0,5), ha='center')\n",
    "    \n",
    "plt.show()\n",
    "\n",
    "# El polio es un factor que puede influir en la esperanza de vida. \n",
    "# La vacunación contra la polio puede prevenir esta enfermedad y sus posibles complicaciones."
   ]
  },
  {
   "cell_type": "code",
   "execution_count": null,
   "metadata": {},
   "outputs": [],
   "source": [
    "# Analisis de la relación entre Alcohol y la esperanza de vida\n",
    "# grafico de dispersion\n",
    "\n",
    "plt.figure(figsize=(15, 10))\n",
    "plt.scatter(Muestra_definida['Alcohol'], Muestra_definida['Life expectancy'], color='red', s=100, alpha=0.7)\n",
    "plt.xlabel('Consumo de alcohol (personas > 15 años) vs. Esperanza de vida por país (Países Especificados)')\n",
    "plt.xlabel('Consumo de alcohol (litros) entre personas > 15 años')\n",
    "plt.ylabel('Esperanza de Vida')\n",
    "plt.grid()\n",
    "\n",
    "for i, pais in enumerate(Muestra_definida['Country']):\n",
    "    plt.annotate(pais, (Muestra_definida['Alcohol'].iloc[i], Muestra_definida['Life expectancy'].iloc[i]), textcoords=\"offset points\", xytext=(0,5), ha='center')\n",
    "    \n",
    "plt.show()\n",
    "\n",
    "# El alcohol es un factor que puede influir en la esperanza de vida. \n",
    "# El consumo excesivo de alcohol puede tener efectos negativos en la salud física y mental."
   ]
  },
  {
   "cell_type": "code",
   "execution_count": null,
   "metadata": {},
   "outputs": [],
   "source": [
    "# Analisis de la relación entre thinness 1-19 years y la esperanza de vida\n",
    "# grafico de dispersion\n",
    "\n",
    "plt.figure(figsize=(15, 10))\n",
    "plt.scatter(Muestra_definida['thinness  1-19 years'], Muestra_definida['Life expectancy'], color='red', s=100, alpha=0.7)\n",
    "plt.title('Delgadez 1-19 años vs. Esperanza de vida por país (2014)')\n",
    "plt.xlabel('Delgadez 1-19 años')\n",
    "plt.ylabel('Esperanza de Vida')\n",
    "plt.grid()\n",
    "\n",
    "for i, pais in enumerate(Muestra_definida['Country']):\n",
    "    plt.annotate(pais, (Muestra_definida['thinness  1-19 years'].iloc[i], Muestra_definida['Life expectancy'].iloc[i]), textcoords=\"offset points\", xytext=(0,5), ha='center')\n",
    "\n",
    "plt.show()\n",
    "\n",
    "# El índice de delgadez (thinness 1-19 years) es un factor que puede influir en la esperanza de vida. \n",
    "# La delgadez extrema puede estar asociada con una serie de problemas de salud, \n",
    "# lo que puede reducir la esperanza de vida en las poblaciones afectadas."
   ]
  },
  {
   "cell_type": "code",
   "execution_count": null,
   "metadata": {},
   "outputs": [],
   "source": [
    "# Esperanza de vida promedio por cada categoría de 'Status'\n",
    "# Cada barra representa la esperanza de vida promedio de un país específico, agrupado por la categoría de 'Status'.\n",
    "# Gráfico de barras\n",
    "\n",
    "esperanza_de_vida_promedio = Muestra_definida.groupby(['Status', 'Country'])['Life expectancy'].mean()\n",
    "\n",
    "plt.figure(figsize=(12, 6))\n",
    "esperanza_de_vida_promedio.unstack().plot(kind='bar', stacked=False)\n",
    "plt.title('Esperanza de Vida Promedio por Categoría de Status y País')\n",
    "plt.xlabel('País')\n",
    "plt.ylabel('Esperanza de Vida Promedio')\n",
    "plt.xticks(rotation=90) \n",
    "plt.legend(title='Status')\n",
    "plt.grid(axis='y') \n",
    "plt.tight_layout()  \n",
    "plt.show()\n",
    "\n",
    "# el 'estatus' de un país puede influir significativamente en la esperanza de vida de su población al afectar el acceso a\n",
    "# servicios de salud, las condiciones socioeconómicas, la infraestructura y el acceso a tecnología médica."
   ]
  },
  {
   "cell_type": "code",
   "execution_count": null,
   "metadata": {},
   "outputs": [],
   "source": [
    "#Grafico de barras entre expectativa de vida por pais\n",
    "x = Muestra_definida['Country']\n",
    "y = Muestra_definida['Life expectancy']\n",
    "\n",
    "plt.figure(figsize=(16, 6))\n",
    "plt.bar(x,y)\n",
    "\n",
    "plt.title('Relacion de expectativa de vida por pais')\n",
    "plt.xlabel('Paises')\n",
    "plt.ylabel('Expectativa de vida')\n",
    "\n",
    "plt.show()"
   ]
  },
  {
   "cell_type": "code",
   "execution_count": null,
   "metadata": {},
   "outputs": [],
   "source": [
    "#dataframe\n",
    "factores_longevidad = pd.DataFrame()\n",
    "factores_longevidad = factores_longevidad.assign(\n",
    "\n",
    "    Alcohol = Muestra_definida['Alcohol'],\n",
    "    Polio = Muestra_definida['Polio'],\n",
    "    Schooling = Muestra_definida['Schooling'],\n",
    "    GDP = Muestra_definida['GDP'],\n",
    "    BMI = Muestra_definida['BMI'],\n",
    "    Total_expenditure = Muestra_definida['Total expenditure'],\n",
    "    Life_expectancy = Muestra_definida['Life expectancy']\n",
    "      \n",
    ")\n",
    "\n",
    "\n",
    "factores_longevidad"
   ]
  },
  {
   "cell_type": "code",
   "execution_count": null,
   "metadata": {},
   "outputs": [],
   "source": [
    "#correlacion de factores que afectan la longevidad\n",
    "\n",
    "correlacion = factores_longevidad.corr()\n",
    "\n",
    "plt.title('Mapa de correlaciones de las variables que afectan la longevidad')\n",
    "sns.heatmap(correlacion, annot=True)\n",
    "\n",
    "#la expectativa de vida tiene una correlación positiva fuerte con la polio y el BMI.\n",
    "#El alcohol tiene una correlación negativa moderada con la expectativa de vida.\n",
    "#La escolarización y el GDP también muestran una correlación positiva significativa con la expectativa de vida.\n",
    "\n",
    "#nuestro grafico sugiere que existe una una correlacion positiva entre la personas que se vacunan contra el polio y la esperanza\n",
    "#de vida\n",
    "#y una correlacion negativa fuerte entre la esperanza de vida y el consumo de alcohol\n",
    "#esto implica que aquellas variables que tengan colores mas oscuros son inversamente proporcionales a la esperanza de vida\n",
    "#si se esta evaluando la esperanza de vida y aquellas con colores mas claros, se proporcionales, es decir que si estas\n",
    "#aumentan, tambien aumentara la esperanza de vida."
   ]
  }
 ],
 "metadata": {
  "kernelspec": {
   "display_name": "Python 3 (ipykernel)",
   "language": "python",
   "name": "python3"
  },
  "language_info": {
   "codemirror_mode": {
    "name": "ipython",
    "version": 3
   },
   "file_extension": ".py",
   "mimetype": "text/x-python",
   "name": "python",
   "nbconvert_exporter": "python",
   "pygments_lexer": "ipython3",
   "version": "3.11.5"
  }
 },
 "nbformat": 4,
 "nbformat_minor": 4
}
